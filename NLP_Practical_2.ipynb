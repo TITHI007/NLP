{
  "nbformat": 4,
  "nbformat_minor": 0,
  "metadata": {
    "colab": {
      "name": "NLP_Practical_2.ipynb",
      "provenance": [],
      "authorship_tag": "ABX9TyMw5ek31SFkmoZNRTIczrG7",
      "include_colab_link": true
    },
    "kernelspec": {
      "name": "python3",
      "display_name": "Python 3"
    },
    "language_info": {
      "name": "python"
    }
  },
  "cells": [
    {
      "cell_type": "markdown",
      "metadata": {
        "id": "view-in-github",
        "colab_type": "text"
      },
      "source": [
        "<a href=\"https://colab.research.google.com/github/TITHI007/NLP/blob/main/NLP_Practical_2.ipynb\" target=\"_parent\"><img src=\"https://colab.research.google.com/assets/colab-badge.svg\" alt=\"Open In Colab\"/></a>"
      ]
    },
    {
      "cell_type": "markdown",
      "metadata": {
        "id": "U8gJoSDiFNFb"
      },
      "source": [
        "**Implement N‐gram Language model**"
      ]
    },
    {
      "cell_type": "code",
      "metadata": {
        "id": "I_uDusxMFJUh"
      },
      "source": [
        "import re"
      ],
      "execution_count": 1,
      "outputs": []
    },
    {
      "cell_type": "code",
      "metadata": {
        "id": "TEGjY2BgMB6X"
      },
      "source": [
        "def N_gram(n,text):\n",
        "  tokens=re.split(\"\\\\s+\",text)\n",
        "  ngrams=[]\n",
        "  for i in range(len(tokens)-n+1):\n",
        "    temp=[tokens[j] for j in range (i,i+n)]\n",
        "    ngrams.append(\" \".join(temp))\n",
        "  return ngrams"
      ],
      "execution_count": 6,
      "outputs": []
    },
    {
      "cell_type": "code",
      "metadata": {
        "id": "d6925rfvMx-N"
      },
      "source": [
        "text=\"Hello there welcome to the basic N-gram model\""
      ],
      "execution_count": 9,
      "outputs": []
    },
    {
      "cell_type": "code",
      "metadata": {
        "colab": {
          "base_uri": "https://localhost:8080/"
        },
        "id": "h2-hZQUJM7t4",
        "outputId": "42e237b0-c4d0-4b7f-9d97-ea5f229ac3d3"
      },
      "source": [
        "N_gram(4,text)"
      ],
      "execution_count": 10,
      "outputs": [
        {
          "output_type": "execute_result",
          "data": {
            "text/plain": [
              "['Hello there welcome to',\n",
              " 'there welcome to the',\n",
              " 'welcome to the basic',\n",
              " 'to the basic N-gram',\n",
              " 'the basic N-gram model']"
            ]
          },
          "metadata": {},
          "execution_count": 10
        }
      ]
    },
    {
      "cell_type": "code",
      "metadata": {
        "colab": {
          "base_uri": "https://localhost:8080/"
        },
        "id": "M6iQwI9rM_md",
        "outputId": "36dd730c-b84a-48e4-baea-e08d26b3a6df"
      },
      "source": [
        "N_gram(5,text)"
      ],
      "execution_count": 11,
      "outputs": [
        {
          "output_type": "execute_result",
          "data": {
            "text/plain": [
              "['Hello there welcome to the',\n",
              " 'there welcome to the basic',\n",
              " 'welcome to the basic N-gram',\n",
              " 'to the basic N-gram model']"
            ]
          },
          "metadata": {},
          "execution_count": 11
        }
      ]
    },
    {
      "cell_type": "code",
      "metadata": {
        "id": "teXQj6jGNGdw"
      },
      "source": [
        "# List is empty if index given is out of range "
      ],
      "execution_count": 14,
      "outputs": []
    },
    {
      "cell_type": "code",
      "metadata": {
        "colab": {
          "base_uri": "https://localhost:8080/"
        },
        "id": "quYaaf44NR8r",
        "outputId": "66024bb1-998a-4009-c564-dbb90296883f"
      },
      "source": [
        "N_gram(10,text)"
      ],
      "execution_count": 13,
      "outputs": [
        {
          "output_type": "execute_result",
          "data": {
            "text/plain": [
              "[]"
            ]
          },
          "metadata": {},
          "execution_count": 13
        }
      ]
    },
    {
      "cell_type": "code",
      "metadata": {
        "id": "OSzTdaNfNTNi"
      },
      "source": [
        ""
      ],
      "execution_count": null,
      "outputs": []
    }
  ]
}