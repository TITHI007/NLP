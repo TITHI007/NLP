{
  "nbformat": 4,
  "nbformat_minor": 0,
  "metadata": {
    "colab": {
      "name": "NLP_Practical_1.ipynb",
      "provenance": [],
      "collapsed_sections": [],
      "authorship_tag": "ABX9TyMcLVTwcnYrKSfl2iDw9Agh",
      "include_colab_link": true
    },
    "kernelspec": {
      "name": "python3",
      "display_name": "Python 3"
    },
    "language_info": {
      "name": "python"
    }
  },
  "cells": [
    {
      "cell_type": "markdown",
      "metadata": {
        "id": "view-in-github",
        "colab_type": "text"
      },
      "source": [
        "<a href=\"https://colab.research.google.com/github/TITHI007/NLP/blob/main/NLP_Practical_1.ipynb\" target=\"_parent\"><img src=\"https://colab.research.google.com/assets/colab-badge.svg\" alt=\"Open In Colab\"/></a>"
      ]
    },
    {
      "cell_type": "markdown",
      "metadata": {
        "id": "5l4jlp8_BCNy"
      },
      "source": [
        "**Basic Text Processing operation on text document.** <br/>\n",
        "We use nltk to pre-process the text in these practical."
      ]
    },
    {
      "cell_type": "code",
      "metadata": {
        "colab": {
          "base_uri": "https://localhost:8080/"
        },
        "id": "FjmekJctB-_4",
        "outputId": "29732b7c-383d-472d-caf6-4f442a7b895b"
      },
      "source": [
        "pip install pyspellchecker"
      ],
      "execution_count": 14,
      "outputs": [
        {
          "output_type": "stream",
          "name": "stdout",
          "text": [
            "Collecting pyspellchecker\n",
            "  Downloading pyspellchecker-0.6.2-py3-none-any.whl (2.7 MB)\n",
            "\u001b[K     |████████████████████████████████| 2.7 MB 5.2 MB/s \n",
            "\u001b[?25hInstalling collected packages: pyspellchecker\n",
            "Successfully installed pyspellchecker-0.6.2\n"
          ]
        }
      ]
    },
    {
      "cell_type": "code",
      "metadata": {
        "id": "BZ4iQxLdAy6A"
      },
      "source": [
        "import numpy as np\n",
        "import pandas as pd \n",
        "import re\n",
        "import string\n",
        "import nltk\n",
        "from nltk.corpus import stopwords\n",
        "from nltk.tokenize import word_tokenize \n",
        "from nltk.stem.porter import *\n",
        "from nltk.stem.wordnet import WordNetLemmatizer"
      ],
      "execution_count": 1,
      "outputs": []
    },
    {
      "cell_type": "code",
      "metadata": {
        "colab": {
          "base_uri": "https://localhost:8080/"
        },
        "id": "pn_tmQBlB99h",
        "outputId": "73eacf25-f6ee-4b51-fcec-45b2e85a6207"
      },
      "source": [
        "\n",
        "def lowercase(intext):\n",
        "    return intext.lower()    \n",
        "\n",
        "intext = input('Text:')\n",
        "clean_text = lowercase(intext)\n",
        "print('\\nlowercased:',clean_text)"
      ],
      "execution_count": 6,
      "outputs": [
        {
          "output_type": "stream",
          "name": "stdout",
          "text": [
            "Text:Hello 1st SteP to Cleaning TeXt!!!!\n",
            "\n",
            "lowercased: hello 1st step to cleaning text!!!!\n"
          ]
        }
      ]
    },
    {
      "cell_type": "code",
      "metadata": {
        "colab": {
          "base_uri": "https://localhost:8080/"
        },
        "id": "BSri4Rk2Cisn",
        "outputId": "9f3c3586-de87-4c92-86cc-8dd1ac7e9e16"
      },
      "source": [
        "output= string.punctuation\n",
        "print('list of punctuations:', output)\n",
        "def punctuation_cleaning(intext):\n",
        "    return intext.translate(str.maketrans('', '', output))\n",
        "    \n",
        "print('\\nNo-punctuation:',punctuation_cleaning(clean_text))"
      ],
      "execution_count": 7,
      "outputs": [
        {
          "output_type": "stream",
          "name": "stdout",
          "text": [
            "list of punctuations: !\"#$%&'()*+,-./:;<=>?@[\\]^_`{|}~\n",
            "\n",
            "No-punctuation: hello 1st step to cleaning text\n"
          ]
        }
      ]
    },
    {
      "cell_type": "code",
      "metadata": {
        "colab": {
          "base_uri": "https://localhost:8080/"
        },
        "id": "Fsk95r2vC7f8",
        "outputId": "25edeba4-6fc6-4f88-9935-c1f4cd02c235"
      },
      "source": [
        "def url_remove(text):\n",
        "    url_pattern = re.compile(r'https?://\\S+|www\\.\\S+')\n",
        "    return url_pattern.sub(r'', text)\n",
        "def html_remove(text):\n",
        "    html_pattern = re.compile('<.*?>')\n",
        "    return html_pattern.sub(r'', text)\n",
        "\n",
        "text1 = input('Your-Text:')\n",
        "print('\\nNo-url-links:', url_remove(text1))\n",
        "text2 = input('Your Text:')\n",
        "print('\\nNo-html-codes:', html_remove(text2))"
      ],
      "execution_count": 10,
      "outputs": [
        {
          "output_type": "stream",
          "name": "stdout",
          "text": [
            "Your-Text:www.google.com are the urls\n",
            "\n",
            "No-url-links:  are the urls\n",
            "Your Text:www.google.com are the urls\n",
            "\n",
            "No-html-codes: www.google.com are the urls\n"
          ]
        }
      ]
    },
    {
      "cell_type": "code",
      "metadata": {
        "colab": {
          "base_uri": "https://localhost:8080/"
        },
        "id": "UlMaL8F0DI_X",
        "outputId": "cb607957-149b-4e2d-dd9d-d3615159f03f"
      },
      "source": [
        "from spellchecker import SpellChecker\n",
        "\n",
        "spelling = SpellChecker()\n",
        "def spelling_checks(text):\n",
        "    correct_result = []\n",
        "    typo_words = spelling.unknown(text.split())\n",
        "    for word in text.split():\n",
        "        if word in typo_words:\n",
        "            correct_result.append(spelling.correction(word))\n",
        "        else:\n",
        "            correct_result.append(word)\n",
        "    return \" \".join(correct_result)\n",
        "        \n",
        "text = input('Your-Text: ')\n",
        "print('Error free text:',spelling_checks(text))"
      ],
      "execution_count": 17,
      "outputs": [
        {
          "output_type": "stream",
          "name": "stdout",
          "text": [
            "Your-Text: these is yellow coloure\n",
            "Error free text: these is yellow colour\n"
          ]
        }
      ]
    },
    {
      "cell_type": "code",
      "metadata": {
        "colab": {
          "base_uri": "https://localhost:8080/"
        },
        "id": "G81FUxH_DpPI",
        "outputId": "6bc32e54-6ab4-4a5a-827a-0556fe518976"
      },
      "source": [
        "import nltk\n",
        "nltk.download('stopwords')\n",
        "nltk.download('punkt') \n",
        "nltk.download('wordnet')"
      ],
      "execution_count": 18,
      "outputs": [
        {
          "output_type": "stream",
          "name": "stdout",
          "text": [
            "[nltk_data] Downloading package stopwords to /root/nltk_data...\n",
            "[nltk_data]   Unzipping corpora/stopwords.zip.\n",
            "[nltk_data] Downloading package punkt to /root/nltk_data...\n",
            "[nltk_data]   Unzipping tokenizers/punkt.zip.\n",
            "[nltk_data] Downloading package wordnet to /root/nltk_data...\n",
            "[nltk_data]   Unzipping corpora/wordnet.zip.\n"
          ]
        },
        {
          "output_type": "execute_result",
          "data": {
            "text/plain": [
              "True"
            ]
          },
          "metadata": {},
          "execution_count": 18
        }
      ]
    },
    {
      "cell_type": "code",
      "metadata": {
        "colab": {
          "base_uri": "https://localhost:8080/"
        },
        "id": "hbBRw55wEK6V",
        "outputId": "242ca0fe-9d1e-4fb0-d044-600e08be21fb"
      },
      "source": [
        "stopwordslist = stopwords.words('english')\n",
        "print(stopwordslist)\n",
        "print('Total:',len(stopwordslist))"
      ],
      "execution_count": 19,
      "outputs": [
        {
          "output_type": "stream",
          "name": "stdout",
          "text": [
            "['i', 'me', 'my', 'myself', 'we', 'our', 'ours', 'ourselves', 'you', \"you're\", \"you've\", \"you'll\", \"you'd\", 'your', 'yours', 'yourself', 'yourselves', 'he', 'him', 'his', 'himself', 'she', \"she's\", 'her', 'hers', 'herself', 'it', \"it's\", 'its', 'itself', 'they', 'them', 'their', 'theirs', 'themselves', 'what', 'which', 'who', 'whom', 'this', 'that', \"that'll\", 'these', 'those', 'am', 'is', 'are', 'was', 'were', 'be', 'been', 'being', 'have', 'has', 'had', 'having', 'do', 'does', 'did', 'doing', 'a', 'an', 'the', 'and', 'but', 'if', 'or', 'because', 'as', 'until', 'while', 'of', 'at', 'by', 'for', 'with', 'about', 'against', 'between', 'into', 'through', 'during', 'before', 'after', 'above', 'below', 'to', 'from', 'up', 'down', 'in', 'out', 'on', 'off', 'over', 'under', 'again', 'further', 'then', 'once', 'here', 'there', 'when', 'where', 'why', 'how', 'all', 'any', 'both', 'each', 'few', 'more', 'most', 'other', 'some', 'such', 'no', 'nor', 'not', 'only', 'own', 'same', 'so', 'than', 'too', 'very', 's', 't', 'can', 'will', 'just', 'don', \"don't\", 'should', \"should've\", 'now', 'd', 'll', 'm', 'o', 're', 've', 'y', 'ain', 'aren', \"aren't\", 'couldn', \"couldn't\", 'didn', \"didn't\", 'doesn', \"doesn't\", 'hadn', \"hadn't\", 'hasn', \"hasn't\", 'haven', \"haven't\", 'isn', \"isn't\", 'ma', 'mightn', \"mightn't\", 'mustn', \"mustn't\", 'needn', \"needn't\", 'shan', \"shan't\", 'shouldn', \"shouldn't\", 'wasn', \"wasn't\", 'weren', \"weren't\", 'won', \"won't\", 'wouldn', \"wouldn't\"]\n",
            "Total: 179\n"
          ]
        }
      ]
    },
    {
      "cell_type": "code",
      "metadata": {
        "colab": {
          "base_uri": "https://localhost:8080/"
        },
        "id": "HFIcdvjFENkk",
        "outputId": "2397cac6-b2c6-4496-bcbf-e488fc25f90d"
      },
      "source": [
        "text = \"These is NLP course where we learn about cleaning and furthermore analysisng the text\"\n",
        "stop_words = set(stopwords.words('english')) \n",
        "tokenwords = word_tokenize(text) \n",
        "result = [w for w in tokenwords if not w in stop_words] \n",
        "result = [] \n",
        "for w in tokenwords: \n",
        "    if w not in stop_words: \n",
        "        result.append(w) \n",
        "  \n",
        "print('Tokenized words: ',tokenwords) \n",
        "print('No-Stopwords: ',result) \n",
        "\n"
      ],
      "execution_count": 20,
      "outputs": [
        {
          "output_type": "stream",
          "name": "stdout",
          "text": [
            "Tokenized words:  ['These', 'is', 'NLP', 'course', 'where', 'we', 'learn', 'about', 'cleaning', 'and', 'furthermore', 'analysisng', 'the', 'text']\n",
            "No-Stopwords:  ['These', 'NLP', 'course', 'learn', 'cleaning', 'furthermore', 'analysisng', 'text']\n"
          ]
        }
      ]
    },
    {
      "cell_type": "code",
      "metadata": {
        "colab": {
          "base_uri": "https://localhost:8080/"
        },
        "id": "UejKJJmPEYv9",
        "outputId": "65f662bc-ed5d-406b-8af0-ff5b653b3281"
      },
      "source": [
        "ps = PorterStemmer()\n",
        "stemwords = [ps.stem(w) for w in tokenwords]\n",
        "print ('Stemming-Form:', stemwords)"
      ],
      "execution_count": 21,
      "outputs": [
        {
          "output_type": "stream",
          "name": "stdout",
          "text": [
            "Stemming-Form: ['these', 'is', 'nlp', 'cours', 'where', 'we', 'learn', 'about', 'clean', 'and', 'furthermor', 'analysisng', 'the', 'text']\n"
          ]
        }
      ]
    },
    {
      "cell_type": "code",
      "metadata": {
        "colab": {
          "base_uri": "https://localhost:8080/"
        },
        "id": "5E2OISEQEcgo",
        "outputId": "8b6c120d-8283-434a-a193-28c05709e9a7"
      },
      "source": [
        "lemmatizer = WordNetLemmatizer()\n",
        "lemmawords = [lemmatizer.lemmatize(w) for w in tokenwords]\n",
        "print ('Lemmtization-form',lemmawords)"
      ],
      "execution_count": 22,
      "outputs": [
        {
          "output_type": "stream",
          "name": "stdout",
          "text": [
            "Lemmtization-form ['These', 'is', 'NLP', 'course', 'where', 'we', 'learn', 'about', 'cleaning', 'and', 'furthermore', 'analysisng', 'the', 'text']\n"
          ]
        }
      ]
    },
    {
      "cell_type": "code",
      "metadata": {
        "id": "YECLQFcFEgct"
      },
      "source": [
        ""
      ],
      "execution_count": null,
      "outputs": []
    }
  ]
}