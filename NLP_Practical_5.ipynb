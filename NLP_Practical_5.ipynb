{
  "nbformat": 4,
  "nbformat_minor": 0,
  "metadata": {
    "colab": {
      "name": "NLP_Practical_5.ipynb",
      "provenance": [],
      "collapsed_sections": [],
      "authorship_tag": "ABX9TyOie5Cu+G9SMYGs1WTa3sx0",
      "include_colab_link": true
    },
    "kernelspec": {
      "name": "python3",
      "display_name": "Python 3"
    },
    "language_info": {
      "name": "python"
    }
  },
  "cells": [
    {
      "cell_type": "markdown",
      "metadata": {
        "id": "view-in-github",
        "colab_type": "text"
      },
      "source": [
        "<a href=\"https://colab.research.google.com/github/TITHI007/NLP/blob/main/NLP_Practical_5.ipynb\" target=\"_parent\"><img src=\"https://colab.research.google.com/assets/colab-badge.svg\" alt=\"Open In Colab\"/></a>"
      ]
    },
    {
      "cell_type": "markdown",
      "metadata": {
        "id": "KzNIO6GbT9NY"
      },
      "source": [
        "**Implement LSA and Topic model**"
      ]
    },
    {
      "cell_type": "code",
      "metadata": {
        "colab": {
          "base_uri": "https://localhost:8080/"
        },
        "id": "HIpxKZogT3_p",
        "outputId": "9bf39cc8-a302-45de-8e3a-5d78254fdba2"
      },
      "source": [
        "import pandas as pd\n",
        "from sklearn.feature_extraction.text import TfidfVectorizer\n",
        "import nltk\n",
        "from sklearn.decomposition import TruncatedSVD\n",
        "nltk.download('stopwords')\n",
        "from nltk.corpus import stopwords"
      ],
      "execution_count": 1,
      "outputs": [
        {
          "output_type": "stream",
          "name": "stdout",
          "text": [
            "[nltk_data] Downloading package stopwords to /root/nltk_data...\n",
            "[nltk_data]   Unzipping corpora/stopwords.zip.\n"
          ]
        }
      ]
    },
    {
      "cell_type": "code",
      "metadata": {
        "colab": {
          "base_uri": "https://localhost:8080/",
          "height": 141
        },
        "id": "g8q4zupiUapk",
        "outputId": "5dd0de76-03cc-4513-cc84-19846df71c2d"
      },
      "source": [
        "a1 = \"NLP\"\n",
        "a2 = \"NLP is natural language processing.\"\n",
        "a3 = \"NLP is about analysis of text\"\n",
        "\n",
        "df = pd.DataFrame()\n",
        "df[\"documents\"] = [a1,a2,a3]\n",
        "df.head()"
      ],
      "execution_count": 2,
      "outputs": [
        {
          "output_type": "execute_result",
          "data": {
            "text/html": [
              "<div>\n",
              "<style scoped>\n",
              "    .dataframe tbody tr th:only-of-type {\n",
              "        vertical-align: middle;\n",
              "    }\n",
              "\n",
              "    .dataframe tbody tr th {\n",
              "        vertical-align: top;\n",
              "    }\n",
              "\n",
              "    .dataframe thead th {\n",
              "        text-align: right;\n",
              "    }\n",
              "</style>\n",
              "<table border=\"1\" class=\"dataframe\">\n",
              "  <thead>\n",
              "    <tr style=\"text-align: right;\">\n",
              "      <th></th>\n",
              "      <th>documents</th>\n",
              "    </tr>\n",
              "  </thead>\n",
              "  <tbody>\n",
              "    <tr>\n",
              "      <th>0</th>\n",
              "      <td>NLP</td>\n",
              "    </tr>\n",
              "    <tr>\n",
              "      <th>1</th>\n",
              "      <td>NLP is natural language processing.</td>\n",
              "    </tr>\n",
              "    <tr>\n",
              "      <th>2</th>\n",
              "      <td>NLP is about analysis of text</td>\n",
              "    </tr>\n",
              "  </tbody>\n",
              "</table>\n",
              "</div>"
            ],
            "text/plain": [
              "                             documents\n",
              "0                                  NLP\n",
              "1  NLP is natural language processing.\n",
              "2        NLP is about analysis of text"
            ]
          },
          "metadata": {},
          "execution_count": 2
        }
      ]
    },
    {
      "cell_type": "code",
      "metadata": {
        "colab": {
          "base_uri": "https://localhost:8080/",
          "height": 141
        },
        "id": "xKhszgFeUt0a",
        "outputId": "fb0adce4-5a4b-49bc-e4dc-ce56fff613b6"
      },
      "source": [
        "df['clean_documents'] = df['documents'].str.replace(\"[^a-zA-Z#]\", \" \")\n",
        "df['clean_documents'] = df['clean_documents'].fillna('').apply(lambda x: ' '.join([w for w in x.split() if len(w)>2]))\n",
        "df['clean_documents'] = df['clean_documents'].fillna('').apply(lambda x: x.lower())\n",
        "\n",
        "df.head()"
      ],
      "execution_count": 3,
      "outputs": [
        {
          "output_type": "execute_result",
          "data": {
            "text/html": [
              "<div>\n",
              "<style scoped>\n",
              "    .dataframe tbody tr th:only-of-type {\n",
              "        vertical-align: middle;\n",
              "    }\n",
              "\n",
              "    .dataframe tbody tr th {\n",
              "        vertical-align: top;\n",
              "    }\n",
              "\n",
              "    .dataframe thead th {\n",
              "        text-align: right;\n",
              "    }\n",
              "</style>\n",
              "<table border=\"1\" class=\"dataframe\">\n",
              "  <thead>\n",
              "    <tr style=\"text-align: right;\">\n",
              "      <th></th>\n",
              "      <th>documents</th>\n",
              "      <th>clean_documents</th>\n",
              "    </tr>\n",
              "  </thead>\n",
              "  <tbody>\n",
              "    <tr>\n",
              "      <th>0</th>\n",
              "      <td>NLP</td>\n",
              "      <td>nlp</td>\n",
              "    </tr>\n",
              "    <tr>\n",
              "      <th>1</th>\n",
              "      <td>NLP is natural language processing.</td>\n",
              "      <td>nlp natural language processing</td>\n",
              "    </tr>\n",
              "    <tr>\n",
              "      <th>2</th>\n",
              "      <td>NLP is about analysis of text</td>\n",
              "      <td>nlp about analysis text</td>\n",
              "    </tr>\n",
              "  </tbody>\n",
              "</table>\n",
              "</div>"
            ],
            "text/plain": [
              "                             documents                  clean_documents\n",
              "0                                  NLP                              nlp\n",
              "1  NLP is natural language processing.  nlp natural language processing\n",
              "2        NLP is about analysis of text          nlp about analysis text"
            ]
          },
          "metadata": {},
          "execution_count": 3
        }
      ]
    },
    {
      "cell_type": "code",
      "metadata": {
        "colab": {
          "base_uri": "https://localhost:8080/"
        },
        "id": "4VmthrrGUxfU",
        "outputId": "f2355d32-6a6f-46ee-b59b-373f02319ea6"
      },
      "source": [
        "import nltk \n",
        "nltk.download('stopwords') \n",
        "from nltk.corpus import stopwords \n",
        "stop_words = stopwords.words('english')"
      ],
      "execution_count": 4,
      "outputs": [
        {
          "output_type": "stream",
          "name": "stdout",
          "text": [
            "[nltk_data] Downloading package stopwords to /root/nltk_data...\n",
            "[nltk_data]   Package stopwords is already up-to-date!\n"
          ]
        }
      ]
    },
    {
      "cell_type": "code",
      "metadata": {
        "id": "OTZHoTg2U1Br"
      },
      "source": [
        "tokenized_doc = df['clean_documents'].fillna('').apply(lambda x: x.split())\n",
        "\n",
        "tokenized_doc = tokenized_doc.apply(lambda x: [item for item in x if item not in stop_words]) \n",
        "detokenized_doc = []\n",
        "for i in range(len(df)):\n",
        "    t = ' '.join(tokenized_doc[i])\n",
        "    detokenized_doc.append(t)\n",
        "\n",
        "df['clean_documents'] = detokenized_doc"
      ],
      "execution_count": 5,
      "outputs": []
    },
    {
      "cell_type": "code",
      "metadata": {
        "colab": {
          "base_uri": "https://localhost:8080/",
          "height": 141
        },
        "id": "GBvQVHUyU56A",
        "outputId": "9557b3a6-cc26-4656-8f14-412ed8e1c3de"
      },
      "source": [
        "df.head()"
      ],
      "execution_count": 6,
      "outputs": [
        {
          "output_type": "execute_result",
          "data": {
            "text/html": [
              "<div>\n",
              "<style scoped>\n",
              "    .dataframe tbody tr th:only-of-type {\n",
              "        vertical-align: middle;\n",
              "    }\n",
              "\n",
              "    .dataframe tbody tr th {\n",
              "        vertical-align: top;\n",
              "    }\n",
              "\n",
              "    .dataframe thead th {\n",
              "        text-align: right;\n",
              "    }\n",
              "</style>\n",
              "<table border=\"1\" class=\"dataframe\">\n",
              "  <thead>\n",
              "    <tr style=\"text-align: right;\">\n",
              "      <th></th>\n",
              "      <th>documents</th>\n",
              "      <th>clean_documents</th>\n",
              "    </tr>\n",
              "  </thead>\n",
              "  <tbody>\n",
              "    <tr>\n",
              "      <th>0</th>\n",
              "      <td>NLP</td>\n",
              "      <td>nlp</td>\n",
              "    </tr>\n",
              "    <tr>\n",
              "      <th>1</th>\n",
              "      <td>NLP is natural language processing.</td>\n",
              "      <td>nlp natural language processing</td>\n",
              "    </tr>\n",
              "    <tr>\n",
              "      <th>2</th>\n",
              "      <td>NLP is about analysis of text</td>\n",
              "      <td>nlp analysis text</td>\n",
              "    </tr>\n",
              "  </tbody>\n",
              "</table>\n",
              "</div>"
            ],
            "text/plain": [
              "                             documents                  clean_documents\n",
              "0                                  NLP                              nlp\n",
              "1  NLP is natural language processing.  nlp natural language processing\n",
              "2        NLP is about analysis of text                nlp analysis text"
            ]
          },
          "metadata": {},
          "execution_count": 6
        }
      ]
    },
    {
      "cell_type": "code",
      "metadata": {
        "colab": {
          "base_uri": "https://localhost:8080/"
        },
        "id": "qA11WECLU8gj",
        "outputId": "07d4e1a7-c853-4fe2-f9c1-0c257ad8e049"
      },
      "source": [
        "vectorizer = TfidfVectorizer(stop_words='english', smooth_idf=True)\n",
        "X = vectorizer.fit_transform(df['clean_documents'])\n",
        "X.toarray()"
      ],
      "execution_count": 7,
      "outputs": [
        {
          "output_type": "execute_result",
          "data": {
            "text/plain": [
              "array([[0.        , 0.        , 0.        , 1.        , 0.        ,\n",
              "        0.        ],\n",
              "       [0.        , 0.54645401, 0.54645401, 0.32274454, 0.54645401,\n",
              "        0.        ],\n",
              "       [0.65249088, 0.        , 0.        , 0.38537163, 0.        ,\n",
              "        0.65249088]])"
            ]
          },
          "metadata": {},
          "execution_count": 7
        }
      ]
    },
    {
      "cell_type": "code",
      "metadata": {
        "colab": {
          "base_uri": "https://localhost:8080/"
        },
        "id": "Ir8q-qVfU_4B",
        "outputId": "593745e9-45cd-4925-9c2e-4e3e25b53671"
      },
      "source": [
        "X.shape"
      ],
      "execution_count": 8,
      "outputs": [
        {
          "output_type": "execute_result",
          "data": {
            "text/plain": [
              "(3, 6)"
            ]
          },
          "metadata": {},
          "execution_count": 8
        }
      ]
    },
    {
      "cell_type": "code",
      "metadata": {
        "id": "6gO1Qjo9VDn3"
      },
      "source": [
        "svd_model = TruncatedSVD(n_components=2, algorithm='randomized', n_iter=100, random_state=122)\n",
        "lsa = svd_model.fit_transform(X)"
      ],
      "execution_count": 9,
      "outputs": []
    },
    {
      "cell_type": "code",
      "metadata": {
        "colab": {
          "base_uri": "https://localhost:8080/",
          "height": 141
        },
        "id": "4O6Z8nqLVG1e",
        "outputId": "068813ee-364e-449e-897c-a6ef24756f3d"
      },
      "source": [
        "pd.options.display.float_format = '{:,.16f}'.format\n",
        "topic_encoded_df = pd.DataFrame(lsa, columns = [\"topic_1\", \"topic_2\"])\n",
        "topic_encoded_df[\"documents\"] = df['clean_documents']\n",
        "display(topic_encoded_df[[\"documents\", \"topic_1\", \"topic_2\"]])"
      ],
      "execution_count": 10,
      "outputs": [
        {
          "output_type": "display_data",
          "data": {
            "text/html": [
              "<div>\n",
              "<style scoped>\n",
              "    .dataframe tbody tr th:only-of-type {\n",
              "        vertical-align: middle;\n",
              "    }\n",
              "\n",
              "    .dataframe tbody tr th {\n",
              "        vertical-align: top;\n",
              "    }\n",
              "\n",
              "    .dataframe thead th {\n",
              "        text-align: right;\n",
              "    }\n",
              "</style>\n",
              "<table border=\"1\" class=\"dataframe\">\n",
              "  <thead>\n",
              "    <tr style=\"text-align: right;\">\n",
              "      <th></th>\n",
              "      <th>documents</th>\n",
              "      <th>topic_1</th>\n",
              "      <th>topic_2</th>\n",
              "    </tr>\n",
              "  </thead>\n",
              "  <tbody>\n",
              "    <tr>\n",
              "      <th>0</th>\n",
              "      <td>nlp</td>\n",
              "      <td>0.8296366497864537</td>\n",
              "      <td>-0.0460873698072866</td>\n",
              "    </tr>\n",
              "    <tr>\n",
              "      <th>1</th>\n",
              "      <td>nlp natural language processing</td>\n",
              "      <td>0.6246263452107035</td>\n",
              "      <td>0.7245619353704799</td>\n",
              "    </tr>\n",
              "    <tr>\n",
              "      <th>2</th>\n",
              "      <td>nlp analysis text</td>\n",
              "      <td>0.6996697108711261</td>\n",
              "      <td>-0.5922004283549573</td>\n",
              "    </tr>\n",
              "  </tbody>\n",
              "</table>\n",
              "</div>"
            ],
            "text/plain": [
              "                         documents            topic_1             topic_2\n",
              "0                              nlp 0.8296366497864537 -0.0460873698072866\n",
              "1  nlp natural language processing 0.6246263452107035  0.7245619353704799\n",
              "2                nlp analysis text 0.6996697108711261 -0.5922004283549573"
            ]
          },
          "metadata": {}
        }
      ]
    },
    {
      "cell_type": "code",
      "metadata": {
        "colab": {
          "base_uri": "https://localhost:8080/"
        },
        "id": "RzU4TOtBVKD1",
        "outputId": "626b59f9-9317-4c25-a03b-e3a1a74e4690"
      },
      "source": [
        "dictionary = vectorizer.get_feature_names()\n",
        "encoding_matrix = pd.DataFrame(svd_model.components_, index = [\"topic_1\",\"topic_2\"], columns = (dictionary)).T"
      ],
      "execution_count": 12,
      "outputs": [
        {
          "output_type": "stream",
          "name": "stderr",
          "text": [
            "/usr/local/lib/python3.7/dist-packages/sklearn/utils/deprecation.py:87: FutureWarning: Function get_feature_names is deprecated; get_feature_names is deprecated in 1.0 and will be removed in 1.2. Please use get_feature_names_out instead.\n",
            "  warnings.warn(msg, category=FutureWarning)\n"
          ]
        }
      ]
    },
    {
      "cell_type": "code",
      "metadata": {
        "colab": {
          "base_uri": "https://localhost:8080/",
          "height": 233
        },
        "id": "l4MekwSRVM-K",
        "outputId": "a7080b3f-8d6a-4517-82f9-a363e6ed31c8"
      },
      "source": [
        "encoding_matrix"
      ],
      "execution_count": 13,
      "outputs": [
        {
          "output_type": "execute_result",
          "data": {
            "text/html": [
              "<div>\n",
              "<style scoped>\n",
              "    .dataframe tbody tr th:only-of-type {\n",
              "        vertical-align: middle;\n",
              "    }\n",
              "\n",
              "    .dataframe tbody tr th {\n",
              "        vertical-align: top;\n",
              "    }\n",
              "\n",
              "    .dataframe thead th {\n",
              "        text-align: right;\n",
              "    }\n",
              "</style>\n",
              "<table border=\"1\" class=\"dataframe\">\n",
              "  <thead>\n",
              "    <tr style=\"text-align: right;\">\n",
              "      <th></th>\n",
              "      <th>topic_1</th>\n",
              "      <th>topic_2</th>\n",
              "    </tr>\n",
              "  </thead>\n",
              "  <tbody>\n",
              "    <tr>\n",
              "      <th>analysis</th>\n",
              "      <td>0.2911544773694453</td>\n",
              "      <td>-0.4401897997976114</td>\n",
              "    </tr>\n",
              "    <tr>\n",
              "      <th>language</th>\n",
              "      <td>0.2176856831508516</td>\n",
              "      <td>0.4510513033098431</td>\n",
              "    </tr>\n",
              "    <tr>\n",
              "      <th>natural</th>\n",
              "      <td>0.2176856831508516</td>\n",
              "      <td>0.4510513033098430</td>\n",
              "    </tr>\n",
              "    <tr>\n",
              "      <th>nlp</th>\n",
              "      <td>0.8296366497864537</td>\n",
              "      <td>-0.0460873698072866</td>\n",
              "    </tr>\n",
              "    <tr>\n",
              "      <th>processing</th>\n",
              "      <td>0.2176856831508516</td>\n",
              "      <td>0.4510513033098430</td>\n",
              "    </tr>\n",
              "    <tr>\n",
              "      <th>text</th>\n",
              "      <td>0.2911544773694455</td>\n",
              "      <td>-0.4401897997976114</td>\n",
              "    </tr>\n",
              "  </tbody>\n",
              "</table>\n",
              "</div>"
            ],
            "text/plain": [
              "                      topic_1             topic_2\n",
              "analysis   0.2911544773694453 -0.4401897997976114\n",
              "language   0.2176856831508516  0.4510513033098431\n",
              "natural    0.2176856831508516  0.4510513033098430\n",
              "nlp        0.8296366497864537 -0.0460873698072866\n",
              "processing 0.2176856831508516  0.4510513033098430\n",
              "text       0.2911544773694455 -0.4401897997976114"
            ]
          },
          "metadata": {},
          "execution_count": 13
        }
      ]
    },
    {
      "cell_type": "code",
      "metadata": {
        "id": "cV9dQp-AVTm4"
      },
      "source": [
        ""
      ],
      "execution_count": null,
      "outputs": []
    }
  ]
}