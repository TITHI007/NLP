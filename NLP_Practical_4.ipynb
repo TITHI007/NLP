{
  "nbformat": 4,
  "nbformat_minor": 5,
  "metadata": {
    "kernelspec": {
      "display_name": "Python 3",
      "language": "python",
      "name": "python3"
    },
    "language_info": {
      "codemirror_mode": {
        "name": "ipython",
        "version": 3
      },
      "file_extension": ".py",
      "mimetype": "text/x-python",
      "name": "python",
      "nbconvert_exporter": "python",
      "pygments_lexer": "ipython3",
      "version": "3.8.10"
    },
    "colab": {
      "name": "NLP_Practical_4.ipynb",
      "provenance": [],
      "include_colab_link": true
    }
  },
  "cells": [
    {
      "cell_type": "markdown",
      "metadata": {
        "id": "view-in-github",
        "colab_type": "text"
      },
      "source": [
        "<a href=\"https://colab.research.google.com/github/TITHI007/NLP/blob/main/NLP_Practical_4.ipynb\" target=\"_parent\"><img src=\"https://colab.research.google.com/assets/colab-badge.svg\" alt=\"Open In Colab\"/></a>"
      ]
    },
    {
      "cell_type": "markdown",
      "metadata": {
        "id": "AIh9btsOLaNY"
      },
      "source": [
        "**Implement word embedding using GloVe**"
      ],
      "id": "AIh9btsOLaNY"
    },
    {
      "cell_type": "markdown",
      "metadata": {
        "id": "b2e0450d"
      },
      "source": [
        "unsupervised learning algorithm for obtaining vector representations for words\n",
        "performed on aggregated global word-word co-occurrence statistics from a corpus, and the resulting represents linear substructures."
      ],
      "id": "b2e0450d"
    },
    {
      "cell_type": "markdown",
      "metadata": {
        "id": "83b9ed82"
      },
      "source": [
        "P(j|i)=P(j is in the context of i)=Xij/Xi\n",
        "(Xi is summation of Xik(in context to other works)"
      ],
      "id": "83b9ed82"
    },
    {
      "cell_type": "code",
      "metadata": {
        "id": "13cdc9c2"
      },
      "source": [
        "import numpy as np\n",
        "from sklearn.manifold import TSNE\n",
        "import matplotlib.pyplot as plt"
      ],
      "id": "13cdc9c2",
      "execution_count": 1,
      "outputs": []
    },
    {
      "cell_type": "code",
      "metadata": {
        "colab": {
          "base_uri": "https://localhost:8080/"
        },
        "id": "cc9649c7",
        "outputId": "75129ab7-922c-42de-ad20-26734383897b"
      },
      "source": [
        "import gensim.downloader as api\n",
        "glove_model = api.load('glove-wiki-gigaword-300')"
      ],
      "id": "cc9649c7",
      "execution_count": 2,
      "outputs": [
        {
          "output_type": "stream",
          "name": "stdout",
          "text": [
            "[==================================================] 100.0% 376.1/376.1MB downloaded\n"
          ]
        }
      ]
    },
    {
      "cell_type": "code",
      "metadata": {
        "colab": {
          "base_uri": "https://localhost:8080/",
          "height": 319
        },
        "id": "2e790a8c",
        "outputId": "5bd5b218-9750-46db-dddf-961c56514156"
      },
      "source": [
        "glove_model[\"beautifull\"]\n",
        "# As these wordis not there in the corpus,we will get the following errors"
      ],
      "id": "2e790a8c",
      "execution_count": 10,
      "outputs": [
        {
          "output_type": "error",
          "ename": "KeyError",
          "evalue": "ignored",
          "traceback": [
            "\u001b[0;31m---------------------------------------------------------------------------\u001b[0m",
            "\u001b[0;31mKeyError\u001b[0m                                  Traceback (most recent call last)",
            "\u001b[0;32m<ipython-input-10-225c62401595>\u001b[0m in \u001b[0;36m<module>\u001b[0;34m()\u001b[0m\n\u001b[0;32m----> 1\u001b[0;31m \u001b[0mglove_model\u001b[0m\u001b[0;34m[\u001b[0m\u001b[0;34m\"beautifull\"\u001b[0m\u001b[0;34m]\u001b[0m\u001b[0;34m\u001b[0m\u001b[0;34m\u001b[0m\u001b[0m\n\u001b[0m\u001b[1;32m      2\u001b[0m \u001b[0;31m# As these wordis not there in the corpus,we will get the following errors\u001b[0m\u001b[0;34m\u001b[0m\u001b[0;34m\u001b[0m\u001b[0;34m\u001b[0m\u001b[0m\n",
            "\u001b[0;32m/usr/local/lib/python3.7/dist-packages/gensim/models/keyedvectors.py\u001b[0m in \u001b[0;36m__getitem__\u001b[0;34m(self, entities)\u001b[0m\n\u001b[1;32m    335\u001b[0m         \u001b[0;32mif\u001b[0m \u001b[0misinstance\u001b[0m\u001b[0;34m(\u001b[0m\u001b[0mentities\u001b[0m\u001b[0;34m,\u001b[0m \u001b[0mstring_types\u001b[0m\u001b[0;34m)\u001b[0m\u001b[0;34m:\u001b[0m\u001b[0;34m\u001b[0m\u001b[0;34m\u001b[0m\u001b[0m\n\u001b[1;32m    336\u001b[0m             \u001b[0;31m# allow calls like trained_model['office'], as a shorthand for trained_model[['office']]\u001b[0m\u001b[0;34m\u001b[0m\u001b[0;34m\u001b[0m\u001b[0;34m\u001b[0m\u001b[0m\n\u001b[0;32m--> 337\u001b[0;31m             \u001b[0;32mreturn\u001b[0m \u001b[0mself\u001b[0m\u001b[0;34m.\u001b[0m\u001b[0mget_vector\u001b[0m\u001b[0;34m(\u001b[0m\u001b[0mentities\u001b[0m\u001b[0;34m)\u001b[0m\u001b[0;34m\u001b[0m\u001b[0;34m\u001b[0m\u001b[0m\n\u001b[0m\u001b[1;32m    338\u001b[0m \u001b[0;34m\u001b[0m\u001b[0m\n\u001b[1;32m    339\u001b[0m         \u001b[0;32mreturn\u001b[0m \u001b[0mvstack\u001b[0m\u001b[0;34m(\u001b[0m\u001b[0;34m[\u001b[0m\u001b[0mself\u001b[0m\u001b[0;34m.\u001b[0m\u001b[0mget_vector\u001b[0m\u001b[0;34m(\u001b[0m\u001b[0mentity\u001b[0m\u001b[0;34m)\u001b[0m \u001b[0;32mfor\u001b[0m \u001b[0mentity\u001b[0m \u001b[0;32min\u001b[0m \u001b[0mentities\u001b[0m\u001b[0;34m]\u001b[0m\u001b[0;34m)\u001b[0m\u001b[0;34m\u001b[0m\u001b[0;34m\u001b[0m\u001b[0m\n",
            "\u001b[0;32m/usr/local/lib/python3.7/dist-packages/gensim/models/keyedvectors.py\u001b[0m in \u001b[0;36mget_vector\u001b[0;34m(self, word)\u001b[0m\n\u001b[1;32m    453\u001b[0m \u001b[0;34m\u001b[0m\u001b[0m\n\u001b[1;32m    454\u001b[0m     \u001b[0;32mdef\u001b[0m \u001b[0mget_vector\u001b[0m\u001b[0;34m(\u001b[0m\u001b[0mself\u001b[0m\u001b[0;34m,\u001b[0m \u001b[0mword\u001b[0m\u001b[0;34m)\u001b[0m\u001b[0;34m:\u001b[0m\u001b[0;34m\u001b[0m\u001b[0;34m\u001b[0m\u001b[0m\n\u001b[0;32m--> 455\u001b[0;31m         \u001b[0;32mreturn\u001b[0m \u001b[0mself\u001b[0m\u001b[0;34m.\u001b[0m\u001b[0mword_vec\u001b[0m\u001b[0;34m(\u001b[0m\u001b[0mword\u001b[0m\u001b[0;34m)\u001b[0m\u001b[0;34m\u001b[0m\u001b[0;34m\u001b[0m\u001b[0m\n\u001b[0m\u001b[1;32m    456\u001b[0m \u001b[0;34m\u001b[0m\u001b[0m\n\u001b[1;32m    457\u001b[0m     \u001b[0;32mdef\u001b[0m \u001b[0mwords_closer_than\u001b[0m\u001b[0;34m(\u001b[0m\u001b[0mself\u001b[0m\u001b[0;34m,\u001b[0m \u001b[0mw1\u001b[0m\u001b[0;34m,\u001b[0m \u001b[0mw2\u001b[0m\u001b[0;34m)\u001b[0m\u001b[0;34m:\u001b[0m\u001b[0;34m\u001b[0m\u001b[0;34m\u001b[0m\u001b[0m\n",
            "\u001b[0;32m/usr/local/lib/python3.7/dist-packages/gensim/models/keyedvectors.py\u001b[0m in \u001b[0;36mword_vec\u001b[0;34m(self, word, use_norm)\u001b[0m\n\u001b[1;32m    450\u001b[0m             \u001b[0;32mreturn\u001b[0m \u001b[0mresult\u001b[0m\u001b[0;34m\u001b[0m\u001b[0;34m\u001b[0m\u001b[0m\n\u001b[1;32m    451\u001b[0m         \u001b[0;32melse\u001b[0m\u001b[0;34m:\u001b[0m\u001b[0;34m\u001b[0m\u001b[0;34m\u001b[0m\u001b[0m\n\u001b[0;32m--> 452\u001b[0;31m             \u001b[0;32mraise\u001b[0m \u001b[0mKeyError\u001b[0m\u001b[0;34m(\u001b[0m\u001b[0;34m\"word '%s' not in vocabulary\"\u001b[0m \u001b[0;34m%\u001b[0m \u001b[0mword\u001b[0m\u001b[0;34m)\u001b[0m\u001b[0;34m\u001b[0m\u001b[0;34m\u001b[0m\u001b[0m\n\u001b[0m\u001b[1;32m    453\u001b[0m \u001b[0;34m\u001b[0m\u001b[0m\n\u001b[1;32m    454\u001b[0m     \u001b[0;32mdef\u001b[0m \u001b[0mget_vector\u001b[0m\u001b[0;34m(\u001b[0m\u001b[0mself\u001b[0m\u001b[0;34m,\u001b[0m \u001b[0mword\u001b[0m\u001b[0;34m)\u001b[0m\u001b[0;34m:\u001b[0m\u001b[0;34m\u001b[0m\u001b[0;34m\u001b[0m\u001b[0m\n",
            "\u001b[0;31mKeyError\u001b[0m: \"word 'beautifull' not in vocabulary\""
          ]
        }
      ]
    },
    {
      "cell_type": "code",
      "metadata": {
        "colab": {
          "base_uri": "https://localhost:8080/"
        },
        "id": "8303d399",
        "outputId": "07516c18-2ad4-4a3f-a00c-ecc4f82eec0b"
      },
      "source": [
        "glove_model.most_similar(\"girl\")"
      ],
      "id": "8303d399",
      "execution_count": 4,
      "outputs": [
        {
          "output_type": "execute_result",
          "data": {
            "text/plain": [
              "[('boy', 0.8272891044616699),\n",
              " ('woman', 0.729641854763031),\n",
              " ('girls', 0.7227291464805603),\n",
              " ('teenager', 0.650977373123169),\n",
              " ('teenage', 0.6492719650268555),\n",
              " ('mother', 0.6417974829673767),\n",
              " ('boys', 0.6283578872680664),\n",
              " ('child', 0.6229295134544373),\n",
              " ('teen', 0.612524151802063),\n",
              " ('daughter', 0.6050207614898682)]"
            ]
          },
          "metadata": {},
          "execution_count": 4
        }
      ]
    },
    {
      "cell_type": "code",
      "metadata": {
        "colab": {
          "base_uri": "https://localhost:8080/"
        },
        "id": "fae4c83d",
        "outputId": "35ae9af7-eec8-4058-c0e4-43da541736f5"
      },
      "source": [
        "glove_model.most_similar(\"boy\")"
      ],
      "id": "fae4c83d",
      "execution_count": 5,
      "outputs": [
        {
          "output_type": "execute_result",
          "data": {
            "text/plain": [
              "[('girl', 0.8272891044616699),\n",
              " ('boys', 0.681233286857605),\n",
              " ('kid', 0.655293345451355),\n",
              " ('man', 0.6208277940750122),\n",
              " ('teenage', 0.5973849892616272),\n",
              " ('child', 0.5952882766723633),\n",
              " ('teenager', 0.5896497964859009),\n",
              " ('father', 0.5800690650939941),\n",
              " ('girls', 0.574547290802002),\n",
              " ('son', 0.5726955533027649)]"
            ]
          },
          "metadata": {},
          "execution_count": 5
        }
      ]
    },
    {
      "cell_type": "code",
      "metadata": {
        "colab": {
          "base_uri": "https://localhost:8080/"
        },
        "id": "8d35fb7a",
        "outputId": "22c99f21-ce84-436f-cef9-220739d140fc"
      },
      "source": [
        "glove_model.most_similar(\"teenage\")"
      ],
      "id": "8d35fb7a",
      "execution_count": 6,
      "outputs": [
        {
          "output_type": "execute_result",
          "data": {
            "text/plain": [
              "[('teen', 0.7605429887771606),\n",
              " ('teenagers', 0.6824879050254822),\n",
              " ('teenager', 0.6626788377761841),\n",
              " ('teenaged', 0.651595413684845),\n",
              " ('girl', 0.6492719650268555),\n",
              " ('teens', 0.6297783255577087),\n",
              " ('boy', 0.597385048866272),\n",
              " ('young', 0.5967362523078918),\n",
              " ('girls', 0.5905085206031799),\n",
              " ('agers', 0.5701534152030945)]"
            ]
          },
          "metadata": {},
          "execution_count": 6
        }
      ]
    },
    {
      "cell_type": "code",
      "metadata": {
        "colab": {
          "base_uri": "https://localhost:8080/"
        },
        "id": "e67ad6ee",
        "outputId": "3966a186-b046-41d2-ce63-801d554638a8"
      },
      "source": [
        "glove_model.most_similar(positive=['boy', 'queen'], negative=['girl'], topn=1)"
      ],
      "id": "e67ad6ee",
      "execution_count": 7,
      "outputs": [
        {
          "output_type": "execute_result",
          "data": {
            "text/plain": [
              "[('king', 0.6770139336585999)]"
            ]
          },
          "metadata": {},
          "execution_count": 7
        }
      ]
    },
    {
      "cell_type": "code",
      "metadata": {
        "colab": {
          "base_uri": "https://localhost:8080/"
        },
        "id": "2cae989f",
        "outputId": "0cc2a2d6-7344-4e61-f852-8705ab1c02fb"
      },
      "source": [
        "glove_model.most_similar(positive=['girl', 'king'], negative=['boy'], topn=1)"
      ],
      "id": "2cae989f",
      "execution_count": 8,
      "outputs": [
        {
          "output_type": "execute_result",
          "data": {
            "text/plain": [
              "[('queen', 0.6850624680519104)]"
            ]
          },
          "metadata": {},
          "execution_count": 8
        }
      ]
    },
    {
      "cell_type": "code",
      "metadata": {
        "colab": {
          "base_uri": "https://localhost:8080/",
          "height": 570
        },
        "id": "e8917fde",
        "outputId": "ef9c26b0-c01b-424d-bf9f-4672cf33f887"
      },
      "source": [
        "vocab = [\"boy\", \"girl\",\"teenage\",\"teen\",\"teens\", \"man\", \"woman\", \"king\", \"queen\", \"banana\", \"apple\", \"mango\", \"fruit\", \"coconut\", \"orange\"]\n",
        "\n",
        "def tsne_plot(model):\n",
        "    labels = []\n",
        "    wordvecs = []\n",
        "\n",
        "    for word in vocab:\n",
        "        wordvecs.append(model[word])\n",
        "        labels.append(word)\n",
        "    \n",
        "    tsne_model = TSNE(perplexity=3 ,n_components=2, init='pca', random_state=42)\n",
        "#     Lower the perplexity,closer the points will be in the graph\n",
        "    coordinates = tsne_model.fit_transform(wordvecs)\n",
        "\n",
        "    x = []\n",
        "    y = []\n",
        "    for value in coordinates:\n",
        "        x.append(value[0])\n",
        "        y.append(value[1])\n",
        "        \n",
        "    plt.figure(figsize=(8,8)) \n",
        "    for i in range(len(x)):\n",
        "        plt.scatter(x[i],y[i])\n",
        "        plt.annotate(labels[i],\n",
        "                     xy=(x[i], y[i]),\n",
        "                     xytext=(2, 2),\n",
        "                     textcoords='offset points',\n",
        "                     ha='right',\n",
        "                     va='bottom')\n",
        "    plt.show()\n",
        "\n",
        "tsne_plot(glove_model)"
      ],
      "id": "e8917fde",
      "execution_count": 9,
      "outputs": [
        {
          "output_type": "stream",
          "name": "stderr",
          "text": [
            "/usr/local/lib/python3.7/dist-packages/sklearn/manifold/_t_sne.py:793: FutureWarning: The default learning rate in TSNE will change from 200.0 to 'auto' in 1.2.\n",
            "  FutureWarning,\n",
            "/usr/local/lib/python3.7/dist-packages/sklearn/manifold/_t_sne.py:986: FutureWarning: The PCA initialization in TSNE will change to have the standard deviation of PC1 equal to 1e-4 in 1.2. This will ensure better convergence.\n",
            "  FutureWarning,\n"
          ]
        },
        {
          "output_type": "display_data",
          "data": {
            "image/png": "[encoded data removed]",
            "text/plain": [
              "<Figure size 576x576 with 1 Axes>"
            ]
          },
          "metadata": {
            "needs_background": "light"
          }
        }
      ]
    },
    {
      "cell_type": "markdown",
      "metadata": {
        "id": "797e2995"
      },
      "source": [
        "Difference between Word2Vec and GLoVe are:\n",
        "Word2Vec are based on CBOW and skipgram whereas GLoVe is based on co-occurence matrix.\n",
        "Word2Vec are local whereas GLoVe is Global.\n"
      ],
      "id": "797e2995"
    },
    {
      "cell_type": "code",
      "metadata": {
        "id": "xJCn-drhLp5n"
      },
      "source": [
        ""
      ],
      "id": "xJCn-drhLp5n",
      "execution_count": null,
      "outputs": []
    }
  ]
}