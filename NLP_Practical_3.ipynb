{
  "nbformat": 4,
  "nbformat_minor": 0,
  "metadata": {
    "colab": {
      "name": "NLP_Practical_3.ipynb",
      "provenance": [],
      "collapsed_sections": [],
      "authorship_tag": "ABX9TyMUbZPaDs+Y94yO+gcq/8fV",
      "include_colab_link": true
    },
    "kernelspec": {
      "name": "python3",
      "display_name": "Python 3"
    },
    "language_info": {
      "name": "python"
    }
  },
  "cells": [
    {
      "cell_type": "markdown",
      "metadata": {
        "id": "view-in-github",
        "colab_type": "text"
      },
      "source": [
        "<a href=\"https://colab.research.google.com/github/TITHI007/NLP/blob/main/NLP_Practical_3.ipynb\" target=\"_parent\"><img src=\"https://colab.research.google.com/assets/colab-badge.svg\" alt=\"Open In Colab\"/></a>"
      ]
    },
    {
      "cell_type": "markdown",
      "metadata": {
        "id": "ZkKQYNbpJw_j"
      },
      "source": [
        "**Write a program to extract features from text**"
      ]
    },
    {
      "cell_type": "code",
      "metadata": {
        "id": "XU37jVIbJwCh"
      },
      "source": [
        "import numpy as np\n",
        "import re"
      ],
      "execution_count": 1,
      "outputs": []
    },
    {
      "cell_type": "code",
      "metadata": {
        "id": "JFQ0V-g1RZcp"
      },
      "source": [
        "def tokenize_sentences(sentences):\n",
        "    words = []\n",
        "    for sentence in sentences:\n",
        "        w = extract_words(sentence)\n",
        "        words.extend(w)\n",
        "        \n",
        "    words = sorted(list(set(words)))\n",
        "    return words"
      ],
      "execution_count": 17,
      "outputs": []
    },
    {
      "cell_type": "code",
      "metadata": {
        "id": "au3mqTXEP21d"
      },
      "source": [
        "def extract_words(sentence):\n",
        "    ignore_words = ['a']\n",
        "    words = re.sub(\"[^w]\", \" \",  sentence).split() \n",
        "    words_cleaned = [w.lower() for w in words if w not in ignore_words]\n",
        "    return words_cleaned   "
      ],
      "execution_count": 29,
      "outputs": []
    },
    {
      "cell_type": "code",
      "metadata": {
        "id": "covMNMxZQawz"
      },
      "source": [
        "def bagofwords(sentence, words):\n",
        "    sentence_words = extract_words(sentence)\n",
        "    # frequency word count\n",
        "    bag = np.zeros(len(words))\n",
        "    for sw in sentence_words:\n",
        "        for i,word in enumerate(words):\n",
        "            if word == sw: \n",
        "                bag[i] += 1\n",
        "                \n",
        "    return np.array(bag)"
      ],
      "execution_count": 30,
      "outputs": []
    },
    {
      "cell_type": "code",
      "metadata": {
        "id": "plU05Tz1TglN"
      },
      "source": [
        "sentences = [\"Natural Language Processing is an intresting area of knowledge\",\"NLP is advance concept after ML\"]"
      ],
      "execution_count": 33,
      "outputs": []
    },
    {
      "cell_type": "code",
      "metadata": {
        "colab": {
          "base_uri": "https://localhost:8080/"
        },
        "id": "RdJwUOADTkQW",
        "outputId": "2040388a-81f5-4f11-9395-f6ef4ba4c750"
      },
      "source": [
        "vocabulary = tokenize_sentences(sentences)\n",
        "bagofwords(\"Machine learning is great\", vocabulary)\n",
        "\n",
        "from sklearn.feature_extraction.text import CountVectorizer\n",
        "\n",
        "vectorizer = CountVectorizer(analyzer = \"word\", tokenizer = None, preprocessor = None, stop_words = None, max_features = 5000) \n",
        "\n",
        "train_data_features = vectorizer.fit_transform(sentences)\n",
        "\n",
        "vectorizer.transform([\"Natural Language Processing is an intresting area of knowledge\",\"NLP is advance concept after ML\"]).toarray()"
      ],
      "execution_count": 35,
      "outputs": [
        {
          "output_type": "execute_result",
          "data": {
            "text/plain": [
              "array([[0, 0, 1, 1, 0, 1, 1, 1, 1, 0, 1, 0, 1, 1],\n",
              "       [1, 1, 0, 0, 1, 0, 1, 0, 0, 1, 0, 1, 0, 0]])"
            ]
          },
          "metadata": {},
          "execution_count": 35
        }
      ]
    },
    {
      "cell_type": "code",
      "metadata": {
        "id": "RXIvAqogSide"
      },
      "source": [
        ""
      ],
      "execution_count": null,
      "outputs": []
    }
  ]
}